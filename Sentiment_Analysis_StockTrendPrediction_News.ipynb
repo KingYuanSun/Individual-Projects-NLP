{
  "nbformat": 4,
  "nbformat_minor": 0,
  "metadata": {
    "colab": {
      "name": "Untitled7.ipynb",
      "provenance": [],
      "collapsed_sections": [],
      "authorship_tag": "ABX9TyMspUzGKNTyAlzZ2YZVvE20",
      "include_colab_link": true
    },
    "kernelspec": {
      "name": "python3",
      "display_name": "Python 3"
    }
  },
  "cells": [
    {
      "cell_type": "markdown",
      "metadata": {
        "id": "view-in-github",
        "colab_type": "text"
      },
      "source": [
        "<a href=\"https://colab.research.google.com/github/KingYuanSun/Individual-Projects-NLP/blob/master/Sentiment_Analysis_StockTrendPrediction_News.ipynb\" target=\"_parent\"><img src=\"https://colab.research.google.com/assets/colab-badge.svg\" alt=\"Open In Colab\"/></a>"
      ]
    },
    {
      "cell_type": "markdown",
      "metadata": {
        "id": "HgvoLKQeONSP",
        "colab_type": "text"
      },
      "source": [
        "Google News Scraping\n",
        "In this notebook you can find the necessary code to retrieve articles for given keywords on a date range"
      ]
    },
    {
      "cell_type": "code",
      "metadata": {
        "id": "GFz4LPb5PCjf",
        "colab_type": "code",
        "colab": {
          "base_uri": "https://localhost:8080/",
          "height": 1000
        },
        "outputId": "0822d019-314a-45d6-fe61-88e6a7a98ba4"
      },
      "source": [
        "!pip install bert-for-tf2\n",
        "!pip install numpy\n",
        "!pip install pandas\n",
        "!pip install matplotlib\n",
        "!pip install nltk\n",
        "!pip install yfinance\n",
        "!pip install news-please\n",
        "!pip install google"
      ],
      "execution_count": 39,
      "outputs": [
        {
          "output_type": "stream",
          "text": [
            "Requirement already satisfied: bert-for-tf2 in /usr/local/lib/python3.6/dist-packages (0.14.5)\n",
            "Requirement already satisfied: params-flow>=0.8.0 in /usr/local/lib/python3.6/dist-packages (from bert-for-tf2) (0.8.2)\n",
            "Requirement already satisfied: py-params>=0.9.6 in /usr/local/lib/python3.6/dist-packages (from bert-for-tf2) (0.9.7)\n",
            "Requirement already satisfied: numpy in /usr/local/lib/python3.6/dist-packages (from params-flow>=0.8.0->bert-for-tf2) (1.18.5)\n",
            "Requirement already satisfied: tqdm in /usr/local/lib/python3.6/dist-packages (from params-flow>=0.8.0->bert-for-tf2) (4.41.1)\n",
            "Requirement already satisfied: numpy in /usr/local/lib/python3.6/dist-packages (1.18.5)\n",
            "Requirement already satisfied: pandas in /usr/local/lib/python3.6/dist-packages (1.0.5)\n",
            "Requirement already satisfied: pytz>=2017.2 in /usr/local/lib/python3.6/dist-packages (from pandas) (2018.9)\n",
            "Requirement already satisfied: python-dateutil>=2.6.1 in /usr/local/lib/python3.6/dist-packages (from pandas) (2.8.1)\n",
            "Requirement already satisfied: numpy>=1.13.3 in /usr/local/lib/python3.6/dist-packages (from pandas) (1.18.5)\n",
            "Requirement already satisfied: six>=1.5 in /usr/local/lib/python3.6/dist-packages (from python-dateutil>=2.6.1->pandas) (1.15.0)\n",
            "Requirement already satisfied: matplotlib in /usr/local/lib/python3.6/dist-packages (3.2.2)\n",
            "Requirement already satisfied: numpy>=1.11 in /usr/local/lib/python3.6/dist-packages (from matplotlib) (1.18.5)\n",
            "Requirement already satisfied: pyparsing!=2.0.4,!=2.1.2,!=2.1.6,>=2.0.1 in /usr/local/lib/python3.6/dist-packages (from matplotlib) (2.4.7)\n",
            "Requirement already satisfied: python-dateutil>=2.1 in /usr/local/lib/python3.6/dist-packages (from matplotlib) (2.8.1)\n",
            "Requirement already satisfied: kiwisolver>=1.0.1 in /usr/local/lib/python3.6/dist-packages (from matplotlib) (1.2.0)\n",
            "Requirement already satisfied: cycler>=0.10 in /usr/local/lib/python3.6/dist-packages (from matplotlib) (0.10.0)\n",
            "Requirement already satisfied: six>=1.5 in /usr/local/lib/python3.6/dist-packages (from python-dateutil>=2.1->matplotlib) (1.15.0)\n",
            "Requirement already satisfied: nltk in /usr/local/lib/python3.6/dist-packages (3.2.5)\n",
            "Requirement already satisfied: six in /usr/local/lib/python3.6/dist-packages (from nltk) (1.15.0)\n",
            "Requirement already satisfied: yfinance in /usr/local/lib/python3.6/dist-packages (0.1.54)\n",
            "Requirement already satisfied: pandas>=0.24 in /usr/local/lib/python3.6/dist-packages (from yfinance) (1.0.5)\n",
            "Requirement already satisfied: requests>=2.20 in /usr/local/lib/python3.6/dist-packages (from yfinance) (2.23.0)\n",
            "Requirement already satisfied: numpy>=1.15 in /usr/local/lib/python3.6/dist-packages (from yfinance) (1.18.5)\n",
            "Requirement already satisfied: multitasking>=0.0.7 in /usr/local/lib/python3.6/dist-packages (from yfinance) (0.0.9)\n",
            "Requirement already satisfied: pytz>=2017.2 in /usr/local/lib/python3.6/dist-packages (from pandas>=0.24->yfinance) (2018.9)\n",
            "Requirement already satisfied: python-dateutil>=2.6.1 in /usr/local/lib/python3.6/dist-packages (from pandas>=0.24->yfinance) (2.8.1)\n",
            "Requirement already satisfied: chardet<4,>=3.0.2 in /usr/local/lib/python3.6/dist-packages (from requests>=2.20->yfinance) (3.0.4)\n",
            "Requirement already satisfied: urllib3!=1.25.0,!=1.25.1,<1.26,>=1.21.1 in /usr/local/lib/python3.6/dist-packages (from requests>=2.20->yfinance) (1.24.3)\n",
            "Requirement already satisfied: idna<3,>=2.5 in /usr/local/lib/python3.6/dist-packages (from requests>=2.20->yfinance) (2.10)\n",
            "Requirement already satisfied: certifi>=2017.4.17 in /usr/local/lib/python3.6/dist-packages (from requests>=2.20->yfinance) (2020.6.20)\n",
            "Requirement already satisfied: six>=1.5 in /usr/local/lib/python3.6/dist-packages (from python-dateutil>=2.6.1->pandas>=0.24->yfinance) (1.15.0)\n",
            "Requirement already satisfied: news-please in /usr/local/lib/python3.6/dist-packages (1.5.3)\n",
            "Requirement already satisfied: plac>=0.9.6 in /usr/local/lib/python3.6/dist-packages (from news-please) (1.1.3)\n",
            "Requirement already satisfied: hjson>=1.5.8 in /usr/local/lib/python3.6/dist-packages (from news-please) (3.0.1)\n",
            "Requirement already satisfied: lxml>=3.3.5 in /usr/local/lib/python3.6/dist-packages (from news-please) (4.2.6)\n",
            "Requirement already satisfied: python-dateutil>=2.4.0 in /usr/local/lib/python3.6/dist-packages (from news-please) (2.8.1)\n",
            "Requirement already satisfied: warcio>=1.3.3 in /usr/local/lib/python3.6/dist-packages (from news-please) (1.7.4)\n",
            "Requirement already satisfied: dotmap>=1.2.17 in /usr/local/lib/python3.6/dist-packages (from news-please) (1.3.17)\n",
            "Requirement already satisfied: newspaper3k>=0.2.8 in /usr/local/lib/python3.6/dist-packages (from news-please) (0.2.8)\n",
            "Requirement already satisfied: ago>=0.0.9 in /usr/local/lib/python3.6/dist-packages (from news-please) (0.0.93)\n",
            "Requirement already satisfied: langdetect>=1.0.7 in /usr/local/lib/python3.6/dist-packages (from news-please) (1.0.8)\n",
            "Requirement already satisfied: bs4 in /usr/local/lib/python3.6/dist-packages (from news-please) (0.0.1)\n",
            "Requirement already satisfied: PyMySQL>=0.7.9 in /usr/local/lib/python3.6/dist-packages (from news-please) (0.10.0)\n",
            "Requirement already satisfied: six>=1.10.0 in /usr/local/lib/python3.6/dist-packages (from news-please) (1.15.0)\n",
            "Requirement already satisfied: psycopg2-binary>=2.8.4 in /usr/local/lib/python3.6/dist-packages (from news-please) (2.8.5)\n",
            "Requirement already satisfied: PyDispatcher>=2.0.5 in /usr/local/lib/python3.6/dist-packages (from news-please) (2.0.5)\n",
            "Requirement already satisfied: hurry.filesize>=0.9 in /usr/local/lib/python3.6/dist-packages (from news-please) (0.9)\n",
            "Requirement already satisfied: elasticsearch>=2.4 in /usr/local/lib/python3.6/dist-packages (from news-please) (7.8.1)\n",
            "Requirement already satisfied: awscli>=1.11.117 in /usr/local/lib/python3.6/dist-packages (from news-please) (1.18.118)\n",
            "Requirement already satisfied: Scrapy>=1.1.0 in /usr/local/lib/python3.6/dist-packages (from news-please) (2.3.0)\n",
            "Requirement already satisfied: beautifulsoup4>=4.3.2 in /usr/local/lib/python3.6/dist-packages (from news-please) (4.6.3)\n",
            "Requirement already satisfied: readability-lxml>=0.6.2 in /usr/local/lib/python3.6/dist-packages (from news-please) (0.8.1)\n",
            "Requirement already satisfied: Pillow>=3.3.0 in /usr/local/lib/python3.6/dist-packages (from newspaper3k>=0.2.8->news-please) (7.0.0)\n",
            "Requirement already satisfied: feedfinder2>=0.0.4 in /usr/local/lib/python3.6/dist-packages (from newspaper3k>=0.2.8->news-please) (0.0.4)\n",
            "Requirement already satisfied: PyYAML>=3.11 in /usr/local/lib/python3.6/dist-packages (from newspaper3k>=0.2.8->news-please) (3.13)\n",
            "Requirement already satisfied: requests>=2.10.0 in /usr/local/lib/python3.6/dist-packages (from newspaper3k>=0.2.8->news-please) (2.23.0)\n",
            "Requirement already satisfied: tinysegmenter==0.3 in /usr/local/lib/python3.6/dist-packages (from newspaper3k>=0.2.8->news-please) (0.3)\n",
            "Requirement already satisfied: tldextract>=2.0.1 in /usr/local/lib/python3.6/dist-packages (from newspaper3k>=0.2.8->news-please) (2.2.3)\n",
            "Requirement already satisfied: jieba3k>=0.35.1 in /usr/local/lib/python3.6/dist-packages (from newspaper3k>=0.2.8->news-please) (0.35.1)\n",
            "Requirement already satisfied: feedparser>=5.2.1 in /usr/local/lib/python3.6/dist-packages (from newspaper3k>=0.2.8->news-please) (5.2.1)\n",
            "Requirement already satisfied: cssselect>=0.9.2 in /usr/local/lib/python3.6/dist-packages (from newspaper3k>=0.2.8->news-please) (1.1.0)\n",
            "Requirement already satisfied: nltk>=3.2.1 in /usr/local/lib/python3.6/dist-packages (from newspaper3k>=0.2.8->news-please) (3.2.5)\n",
            "Requirement already satisfied: setuptools in /usr/local/lib/python3.6/dist-packages (from hurry.filesize>=0.9->news-please) (49.2.0)\n",
            "Requirement already satisfied: certifi in /usr/local/lib/python3.6/dist-packages (from elasticsearch>=2.4->news-please) (2020.6.20)\n",
            "Requirement already satisfied: urllib3>=1.21.1 in /usr/local/lib/python3.6/dist-packages (from elasticsearch>=2.4->news-please) (1.24.3)\n",
            "Requirement already satisfied: botocore==1.17.41 in /usr/local/lib/python3.6/dist-packages (from awscli>=1.11.117->news-please) (1.17.41)\n",
            "Requirement already satisfied: rsa<=4.5.0,>=3.1.2 in /usr/local/lib/python3.6/dist-packages (from awscli>=1.11.117->news-please) (4.5)\n",
            "Requirement already satisfied: docutils<0.16,>=0.10 in /usr/local/lib/python3.6/dist-packages (from awscli>=1.11.117->news-please) (0.15.2)\n",
            "Requirement already satisfied: s3transfer<0.4.0,>=0.3.0 in /usr/local/lib/python3.6/dist-packages (from awscli>=1.11.117->news-please) (0.3.3)\n",
            "Requirement already satisfied: colorama<0.4.4,>=0.2.5 in /usr/local/lib/python3.6/dist-packages (from awscli>=1.11.117->news-please) (0.4.3)\n",
            "Requirement already satisfied: cryptography>=2.0 in /usr/local/lib/python3.6/dist-packages (from Scrapy>=1.1.0->news-please) (3.0)\n",
            "Requirement already satisfied: Twisted>=17.9.0 in /usr/local/lib/python3.6/dist-packages (from Scrapy>=1.1.0->news-please) (20.3.0)\n",
            "Requirement already satisfied: itemloaders>=1.0.1 in /usr/local/lib/python3.6/dist-packages (from Scrapy>=1.1.0->news-please) (1.0.2)\n",
            "Requirement already satisfied: itemadapter>=0.1.0 in /usr/local/lib/python3.6/dist-packages (from Scrapy>=1.1.0->news-please) (0.1.0)\n",
            "Requirement already satisfied: queuelib>=1.4.2 in /usr/local/lib/python3.6/dist-packages (from Scrapy>=1.1.0->news-please) (1.5.0)\n",
            "Requirement already satisfied: w3lib>=1.17.0 in /usr/local/lib/python3.6/dist-packages (from Scrapy>=1.1.0->news-please) (1.22.0)\n",
            "Requirement already satisfied: zope.interface>=4.1.3 in /usr/local/lib/python3.6/dist-packages (from Scrapy>=1.1.0->news-please) (5.1.0)\n",
            "Requirement already satisfied: parsel>=1.5.0 in /usr/local/lib/python3.6/dist-packages (from Scrapy>=1.1.0->news-please) (1.6.0)\n",
            "Requirement already satisfied: pyOpenSSL>=16.2.0 in /usr/local/lib/python3.6/dist-packages (from Scrapy>=1.1.0->news-please) (19.1.0)\n",
            "Requirement already satisfied: protego>=0.1.15 in /usr/local/lib/python3.6/dist-packages (from Scrapy>=1.1.0->news-please) (0.1.16)\n",
            "Requirement already satisfied: service-identity>=16.0.0 in /usr/local/lib/python3.6/dist-packages (from Scrapy>=1.1.0->news-please) (18.1.0)\n",
            "Requirement already satisfied: chardet in /usr/local/lib/python3.6/dist-packages (from readability-lxml>=0.6.2->news-please) (3.0.4)\n",
            "Requirement already satisfied: idna<3,>=2.5 in /usr/local/lib/python3.6/dist-packages (from requests>=2.10.0->newspaper3k>=0.2.8->news-please) (2.10)\n",
            "Requirement already satisfied: requests-file>=1.4 in /usr/local/lib/python3.6/dist-packages (from tldextract>=2.0.1->newspaper3k>=0.2.8->news-please) (1.5.1)\n",
            "Requirement already satisfied: jmespath<1.0.0,>=0.7.1 in /usr/local/lib/python3.6/dist-packages (from botocore==1.17.41->awscli>=1.11.117->news-please) (0.10.0)\n",
            "Requirement already satisfied: pyasn1>=0.1.3 in /usr/local/lib/python3.6/dist-packages (from rsa<=4.5.0,>=3.1.2->awscli>=1.11.117->news-please) (0.4.8)\n",
            "Requirement already satisfied: cffi!=1.11.3,>=1.8 in /usr/local/lib/python3.6/dist-packages (from cryptography>=2.0->Scrapy>=1.1.0->news-please) (1.14.1)\n",
            "Requirement already satisfied: hyperlink>=17.1.1 in /usr/local/lib/python3.6/dist-packages (from Twisted>=17.9.0->Scrapy>=1.1.0->news-please) (20.0.1)\n",
            "Requirement already satisfied: constantly>=15.1 in /usr/local/lib/python3.6/dist-packages (from Twisted>=17.9.0->Scrapy>=1.1.0->news-please) (15.1.0)\n",
            "Requirement already satisfied: Automat>=0.3.0 in /usr/local/lib/python3.6/dist-packages (from Twisted>=17.9.0->Scrapy>=1.1.0->news-please) (20.2.0)\n",
            "Requirement already satisfied: incremental>=16.10.1 in /usr/local/lib/python3.6/dist-packages (from Twisted>=17.9.0->Scrapy>=1.1.0->news-please) (17.5.0)\n",
            "Requirement already satisfied: PyHamcrest!=1.10.0,>=1.9.0 in /usr/local/lib/python3.6/dist-packages (from Twisted>=17.9.0->Scrapy>=1.1.0->news-please) (2.0.2)\n",
            "Requirement already satisfied: attrs>=19.2.0 in /usr/local/lib/python3.6/dist-packages (from Twisted>=17.9.0->Scrapy>=1.1.0->news-please) (19.3.0)\n",
            "Requirement already satisfied: pyasn1-modules in /usr/local/lib/python3.6/dist-packages (from service-identity>=16.0.0->Scrapy>=1.1.0->news-please) (0.2.8)\n",
            "Requirement already satisfied: pycparser in /usr/local/lib/python3.6/dist-packages (from cffi!=1.11.3,>=1.8->cryptography>=2.0->Scrapy>=1.1.0->news-please) (2.20)\n",
            "Requirement already satisfied: google in /usr/local/lib/python3.6/dist-packages (2.0.3)\n",
            "Requirement already satisfied: beautifulsoup4 in /usr/local/lib/python3.6/dist-packages (from google) (4.6.3)\n"
          ],
          "name": "stdout"
        }
      ]
    },
    {
      "cell_type": "code",
      "metadata": {
        "id": "K881ShOAORq_",
        "colab_type": "code",
        "colab": {}
      },
      "source": [
        "from newsplease import NewsPlease\n",
        "from googlesearch import search, get_tbs\n",
        "import datetime\n",
        "import yfinance as yf\n",
        "import matplotlib.pyplot as plt\n",
        "import pandas as pd\n",
        "import logging"
      ],
      "execution_count": 40,
      "outputs": []
    },
    {
      "cell_type": "code",
      "metadata": {
        "id": "YPIoFJgmOSXW",
        "colab_type": "code",
        "colab": {}
      },
      "source": [
        "start = \"2019-01-01\"\n",
        "end   = \"2020-03-19\""
      ],
      "execution_count": 41,
      "outputs": []
    },
    {
      "cell_type": "code",
      "metadata": {
        "id": "ccRHYJVgOT_N",
        "colab_type": "code",
        "colab": {}
      },
      "source": [
        "stocks = [\"TSLA\", \"BTC-USD\"]\n",
        "keywords = {\"TSLA\": [\"Tesla\", \"Elon Musk\"],\n",
        "            \"BTC-USD\" : [\"Bitcoin\", \"Cryptocurrency\"] }"
      ],
      "execution_count": 42,
      "outputs": []
    },
    {
      "cell_type": "code",
      "metadata": {
        "id": "niUh7QZsOWYq",
        "colab_type": "code",
        "colab": {
          "base_uri": "https://localhost:8080/",
          "height": 235
        },
        "outputId": "25abdaac-bfab-4567-de79-c3e10ece04d3"
      },
      "source": [
        "df = yf.download(stocks, \n",
        "                     #period = \"1Y\",\n",
        "                      start= start, \n",
        "                      end= end, \n",
        "                      progress=False)\n",
        "df[\"Close\"].tail()"
      ],
      "execution_count": 43,
      "outputs": [
        {
          "output_type": "execute_result",
          "data": {
            "text/html": [
              "<div>\n",
              "<style scoped>\n",
              "    .dataframe tbody tr th:only-of-type {\n",
              "        vertical-align: middle;\n",
              "    }\n",
              "\n",
              "    .dataframe tbody tr th {\n",
              "        vertical-align: top;\n",
              "    }\n",
              "\n",
              "    .dataframe thead th {\n",
              "        text-align: right;\n",
              "    }\n",
              "</style>\n",
              "<table border=\"1\" class=\"dataframe\">\n",
              "  <thead>\n",
              "    <tr style=\"text-align: right;\">\n",
              "      <th></th>\n",
              "      <th>BTC-USD</th>\n",
              "      <th>TSLA</th>\n",
              "    </tr>\n",
              "    <tr>\n",
              "      <th>Date</th>\n",
              "      <th></th>\n",
              "      <th></th>\n",
              "    </tr>\n",
              "  </thead>\n",
              "  <tbody>\n",
              "    <tr>\n",
              "      <th>2020-03-15</th>\n",
              "      <td>5392.314941</td>\n",
              "      <td>NaN</td>\n",
              "    </tr>\n",
              "    <tr>\n",
              "      <th>2020-03-16</th>\n",
              "      <td>5014.479980</td>\n",
              "      <td>445.070007</td>\n",
              "    </tr>\n",
              "    <tr>\n",
              "      <th>2020-03-17</th>\n",
              "      <td>5225.629395</td>\n",
              "      <td>430.200012</td>\n",
              "    </tr>\n",
              "    <tr>\n",
              "      <th>2020-03-18</th>\n",
              "      <td>5238.438477</td>\n",
              "      <td>361.220001</td>\n",
              "    </tr>\n",
              "    <tr>\n",
              "      <th>2020-03-19</th>\n",
              "      <td>6191.192871</td>\n",
              "      <td>NaN</td>\n",
              "    </tr>\n",
              "  </tbody>\n",
              "</table>\n",
              "</div>"
            ],
            "text/plain": [
              "                BTC-USD        TSLA\n",
              "Date                               \n",
              "2020-03-15  5392.314941         NaN\n",
              "2020-03-16  5014.479980  445.070007\n",
              "2020-03-17  5225.629395  430.200012\n",
              "2020-03-18  5238.438477  361.220001\n",
              "2020-03-19  6191.192871         NaN"
            ]
          },
          "metadata": {
            "tags": []
          },
          "execution_count": 43
        }
      ]
    },
    {
      "cell_type": "code",
      "metadata": {
        "id": "YM9UoVaLOcOa",
        "colab_type": "code",
        "colab": {
          "base_uri": "https://localhost:8080/",
          "height": 354
        },
        "outputId": "5f3b0143-ca7e-4f29-b923-50eca48c76da"
      },
      "source": [
        "fig, ax = plt.subplots(figsize=(15,5))\n",
        "plt.plot(df[\"Close\"])"
      ],
      "execution_count": 44,
      "outputs": [
        {
          "output_type": "execute_result",
          "data": {
            "text/plain": [
              "[<matplotlib.lines.Line2D at 0x7f7a9e01d390>,\n",
              " <matplotlib.lines.Line2D at 0x7f7a9e00aeb8>]"
            ]
          },
          "metadata": {
            "tags": []
          },
          "execution_count": 44
        },
        {
          "output_type": "display_data",
          "data": {
            "image/png": "[encoded data removed]",
            "text/plain": [
              "<Figure size 1080x360 with 1 Axes>"
            ]
          },
          "metadata": {
            "tags": [],
            "needs_background": "light"
          }
        }
      ]
    },
    {
      "cell_type": "markdown",
      "metadata": {
        "id": "n8iMSah0OgPX",
        "colab_type": "text"
      },
      "source": [
        "Google news"
      ]
    },
    {
      "cell_type": "code",
      "metadata": {
        "id": "lqfSP1X4OesY",
        "colab_type": "code",
        "colab": {}
      },
      "source": [
        "start_date = datetime.datetime.strptime(start, \"%Y-%m-%d\")\n",
        "end_date = datetime.datetime.strptime(end, \"%Y-%m-%d\")"
      ],
      "execution_count": 45,
      "outputs": []
    },
    {
      "cell_type": "code",
      "metadata": {
        "id": "ZwtDjcynOoqy",
        "colab_type": "code",
        "colab": {}
      },
      "source": [
        "def find_urls(search_term, tbs, number):\n",
        "    results =  search(search_term ,lang = \"en\",tbs = tbs, country = \"usa\", tpe = \"nws\", stop=number)\n",
        "    urls = []\n",
        "    for url in results:\n",
        "        urls.append(url)\n",
        "    return urls"
      ],
      "execution_count": 46,
      "outputs": []
    },
    {
      "cell_type": "code",
      "metadata": {
        "id": "Uz0T7YdoOrQt",
        "colab_type": "code",
        "colab": {}
      },
      "source": [
        "def detect_empty_articles(articles):\n",
        "    empty = []\n",
        "    for url in articles:\n",
        "        article = articles.get(url)\n",
        "        if (article.maintext == None and article.text == None):\n",
        "            empty.append(url)\n",
        "    for k in empty:\n",
        "        articles.pop(k)\n",
        "    return empty, articles"
      ],
      "execution_count": 47,
      "outputs": []
    },
    {
      "cell_type": "code",
      "metadata": {
        "id": "sHWbCJIrOuap",
        "colab_type": "code",
        "colab": {}
      },
      "source": [
        "def download_articles(search_term, n_articles, start, end = None):\n",
        "    start_date = datetime.datetime.strptime(start, \"%Y-%m-%d\")\n",
        "    end_date = start_date if end is None else datetime.datetime.strptime(end, \"%Y-%m-%d\")\n",
        "    tbs = get_tbs(start_date,end_date)\n",
        "\n",
        "    urls = find_urls(search_term, tbs, 10)\n",
        "    valid_articles = []\n",
        "    while (len(valid_articles) < n_articles and len(urls) > 0):\n",
        "        articles_left = 5 - len(valid_articles)\n",
        "        articles = NewsPlease.from_urls(urls[:articles_left])\n",
        "        empty, articles = detect_empty_articles(articles)\n",
        "        for new in articles:\n",
        "            valid_articles.append(articles.get(new))\n",
        "        urls = urls[articles_left:]\n",
        "    #print(\"valid_articles\", len(valid_articles))\n",
        "    return {\"search_term\": search_term ,\"start\": start, \"end\": start if end is None else end,\"articles\" : valid_articles}"
      ],
      "execution_count": 48,
      "outputs": []
    },
    {
      "cell_type": "code",
      "metadata": {
        "id": "hdjJ38VYOxBb",
        "colab_type": "code",
        "colab": {}
      },
      "source": [
        "def prepare_entries(articles_dict):\n",
        "    entries = []\n",
        "    articles, search_term, start = articles_dict[\"articles\"], articles_dict[\"search_term\"], articles_dict[\"start\"]\n",
        "    for art in articles:\n",
        "        text = art.maintext if art.maintext != None else art.text\n",
        "        entry = {\n",
        "            \"date_google\" : start,\n",
        "            \"date_article\": art.date_publish.strftime(\"%Y-%m-%d\") if art.date_publish is not None else None,\n",
        "            \"search_term\" : search_term,\n",
        "            \"authors\" : \",\".join(art.authors) if art.authors is not None else None,\n",
        "            \"source_domain\" : art.source_domain,\n",
        "            \"title\" : art.title,\n",
        "            \"description\" : art.description,\n",
        "            \"url\" : art.url,\n",
        "            \"maintext\" : text\n",
        "        }\n",
        "        entries.append(entry)\n",
        "    #print(\"Entries: \", len(entries))\n",
        "    return entries"
      ],
      "execution_count": 49,
      "outputs": []
    },
    {
      "cell_type": "code",
      "metadata": {
        "id": "KTrFKtr8Oyz5",
        "colab_type": "code",
        "colab": {}
      },
      "source": [
        "def search_articles_for_each_day(search_term, start, end):\n",
        "    dates = pd.date_range(start, end).format(formatter=lambda x: x.strftime('%Y-%m-%d'))\n",
        "    all_entries = []\n",
        "    errors = []\n",
        "    for date in dates:\n",
        "        try:\n",
        "            articles_dict = download_articles(search_term, 5, date)\n",
        "            entries = prepare_entries(articles_dict)\n",
        "            all_entries.extend(entries)\n",
        "        except Exception as ex:\n",
        "            errors.append({\"search_term\" : search_term, \"date\" : date})\n",
        "            logging.exception(\"Could not retrieve articles with search_term = {} for date {}\".format(search_term, date))\n",
        "    df = pd.DataFrame(all_entries)\n",
        "    errors_df = pd.DataFrame(errors)\n",
        "    return df, errors_df"
      ],
      "execution_count": 50,
      "outputs": []
    },
    {
      "cell_type": "code",
      "metadata": {
        "id": "oUVwtOtGO039",
        "colab_type": "code",
        "colab": {}
      },
      "source": [
        "\n",
        "def search_articles_for_keywords(keywords, start, end):\n",
        "    for k in keywords:\n",
        "        search_term = \" | \".join(keywords.get(k))\n",
        "        df, errors = search_articles_for_each_day(search_term, start, end)\n",
        "        df.to_csv(\"/content/drive/My Drive/ColabData/{} start:{} end:{}.csv\".format(search_term,start,end))\n",
        "        errors.to_csv(\"/content/drive/My Drive/ColabData/Errors- {} start:{} end:{}.csv\".format(search_term,start,end))"
      ],
      "execution_count": 51,
      "outputs": []
    },
    {
      "cell_type": "code",
      "metadata": {
        "id": "JM3bQpgmTzqH",
        "colab_type": "code",
        "colab": {
          "base_uri": "https://localhost:8080/",
          "height": 54
        },
        "outputId": "b8ea9c35-4417-44df-a6b6-730fee86f066"
      },
      "source": [
        "# Load the Drive helper and mount\n",
        "from google.colab import drive\n",
        "\n",
        "# This will prompt for authorization.\n",
        "drive.mount('/content/drive')\n",
        "# !ls \"/content/drive/My Drive\"\n",
        "\n"
      ],
      "execution_count": 52,
      "outputs": [
        {
          "output_type": "stream",
          "text": [
            "Drive already mounted at /content/drive; to attempt to forcibly remount, call drive.mount(\"/content/drive\", force_remount=True).\n"
          ],
          "name": "stdout"
        }
      ]
    },
    {
      "cell_type": "code",
      "metadata": {
        "id": "QFCDmC5AO437",
        "colab_type": "code",
        "colab": {
          "base_uri": "https://localhost:8080/",
          "height": 765
        },
        "outputId": "2520868f-ca39-40c7-8151-0bed2e1a23f9"
      },
      "source": [
        "search_articles_for_keywords(keywords, \"2019-01-01\", \"2019-01-03\")"
      ],
      "execution_count": 53,
      "outputs": [
        {
          "output_type": "stream",
          "text": [
            "Exception in thread Thread-86:\n",
            "Traceback (most recent call last):\n",
            "  File \"/usr/lib/python3.6/threading.py\", line 916, in _bootstrap_inner\n",
            "    self.run()\n",
            "  File \"/usr/lib/python3.6/threading.py\", line 864, in run\n",
            "    self._target(*self._args, **self._kwargs)\n",
            "  File \"/usr/local/lib/python3.6/dist-packages/newsplease/crawler/simple_crawler.py\", line 31, in _fetch_url\n",
            "    html = urllib.request.urlopen(req, data=None, timeout=timeout).read()\n",
            "  File \"/usr/lib/python3.6/urllib/request.py\", line 223, in urlopen\n",
            "    return opener.open(url, data, timeout)\n",
            "  File \"/usr/lib/python3.6/urllib/request.py\", line 532, in open\n",
            "    response = meth(req, response)\n",
            "  File \"/usr/lib/python3.6/urllib/request.py\", line 642, in http_response\n",
            "    'http', request, response, code, msg, hdrs)\n",
            "  File \"/usr/lib/python3.6/urllib/request.py\", line 570, in error\n",
            "    return self._call_chain(*args)\n",
            "  File \"/usr/lib/python3.6/urllib/request.py\", line 504, in _call_chain\n",
            "    result = func(*args)\n",
            "  File \"/usr/lib/python3.6/urllib/request.py\", line 650, in http_error_default\n",
            "    raise HTTPError(req.full_url, code, msg, hdrs, fp)\n",
            "urllib.error.HTTPError: HTTP Error 502: Bad Gateway\n",
            "\n",
            "Exception in thread Thread-99:\n",
            "Traceback (most recent call last):\n",
            "  File \"/usr/lib/python3.6/threading.py\", line 916, in _bootstrap_inner\n",
            "    self.run()\n",
            "  File \"/usr/lib/python3.6/threading.py\", line 864, in run\n",
            "    self._target(*self._args, **self._kwargs)\n",
            "  File \"/usr/local/lib/python3.6/dist-packages/newsplease/crawler/simple_crawler.py\", line 31, in _fetch_url\n",
            "    html = urllib.request.urlopen(req, data=None, timeout=timeout).read()\n",
            "  File \"/usr/lib/python3.6/urllib/request.py\", line 223, in urlopen\n",
            "    return opener.open(url, data, timeout)\n",
            "  File \"/usr/lib/python3.6/urllib/request.py\", line 532, in open\n",
            "    response = meth(req, response)\n",
            "  File \"/usr/lib/python3.6/urllib/request.py\", line 642, in http_response\n",
            "    'http', request, response, code, msg, hdrs)\n",
            "  File \"/usr/lib/python3.6/urllib/request.py\", line 570, in error\n",
            "    return self._call_chain(*args)\n",
            "  File \"/usr/lib/python3.6/urllib/request.py\", line 504, in _call_chain\n",
            "    result = func(*args)\n",
            "  File \"/usr/lib/python3.6/urllib/request.py\", line 650, in http_error_default\n",
            "    raise HTTPError(req.full_url, code, msg, hdrs, fp)\n",
            "urllib.error.HTTPError: HTTP Error 502: Bad Gateway\n",
            "\n"
          ],
          "name": "stderr"
        }
      ]
    }
  ]
}